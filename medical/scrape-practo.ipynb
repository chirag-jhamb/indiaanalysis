{
 "cells": [
  {
   "cell_type": "code",
   "execution_count": 1,
   "metadata": {
    "collapsed": true
   },
   "outputs": [],
   "source": [
    "from bs4 import BeautifulSoup as bs\n",
    "import urllib2,cookielib\n",
    "import unicodecsv as csv"
   ]
  },
  {
   "cell_type": "code",
   "execution_count": 2,
   "metadata": {
    "collapsed": true
   },
   "outputs": [],
   "source": [
    "domain=\"https://www.practo.com\"\n",
    "state=\"/delhi/\"\n",
    "hdr = {'User-Agent': 'Mozilla/5.0 (X11; Linux x86_64) AppleWebKit/537.11 (KHTML, like Gecko) Chrome/23.0.1271.64 Safari/537.11',\n",
    "       'Accept': 'text/html,application/xhtml+xml,application/xml;q=0.9,*/*;q=0.8',\n",
    "       'Accept-Charset': 'ISO-8859-1,utf-8;q=0.7,*;q=0.3',\n",
    "       'Accept-Encoding': 'none',\n",
    "       'Accept-Language': 'en-US,en;q=0.8',\n",
    "       'Connection': 'keep-alive'}"
   ]
  },
  {
   "cell_type": "code",
   "execution_count": null,
   "metadata": {
    "collapsed": false
   },
   "outputs": [
    {
     "name": "stdout",
     "output_type": "stream",
     "text": [
      "https://www.practo.com/delhi/\n"
     ]
    }
   ],
   "source": [
    "#function to open and parse the link-\n",
    "def soup_up(link):\n",
    "    req = urllib2.Request(link,headers=hdr)\n",
    "    print link\n",
    "    #print req\n",
    "    html = urllib2.urlopen(req)\n",
    "    soup = bs(html.read(), \"lxml\")\n",
    "    return soup\n",
    "def scrape_doc(link):\n",
    "    soup=soup_up(link)\n",
    "    dic={'name':[],'img':[],'spec':[],'locality':[],'add':[], 'timings':[], 'price':[]}\n",
    "    dic['name'].append(soup.find(itemprop=\"name\").get_text())\n",
    "    for x in soup.find_all('h2',class_='doctor-specialties'):\n",
    "        for y in x.find_all('a'):\n",
    "            dic['spec'].append(y.get_text())\n",
    "    dic['img'].append(soup.find('img',class_='doc_avatar')['data-originalsrc'])\n",
    "    for i in soup.find_all('div', class_='clinic-block listing-row'):\n",
    "        dic['locality'].append(i.find('h2', class_='strong black').get_text())\n",
    "        dic['add'].append(i.find(itemprop=\"streetAddress\").get_text())\n",
    "        try:\n",
    "            dic['timings'].append(i.find(class_='clinic-timings').get_text().replace(\"\\t\", \"\").replace(\"\\n\", \"\"))\n",
    "        except(AttributeError):\n",
    "            dic['timings'].append(None)\n",
    "        try:\n",
    "            dic['price'].append(i.find(itemprop=\"priceRange\").get_text().replace(\"\\t\", \"\").replace(\"\\n\", \"\"))\n",
    "        except(AttributeError):\n",
    "            dic['price'].append(\"Undisclosed\")\n",
    "    return dic\n",
    "soup=soup_up(str(domain)+str(state))\n",
    "ul = soup.find('ul',class_=\"oval-blocks-list\")\n",
    "links=[]\n",
    "for a in ul.find_all('a', href=True):\n",
    "    for i in range(1,51):\n",
    "        links.append(str(domain)+str(a['href'])+\"?page=\"+str(i))"
   ]
  },
  {
   "cell_type": "code",
   "execution_count": null,
   "metadata": {
    "collapsed": false,
    "scrolled": true
   },
   "outputs": [
    {
     "name": "stdout",
     "output_type": "stream",
     "text": [
      "https://www.practo.com/delhi/dermatologist?page=1\n",
      "https://www.practo.com/delhi/doctor/dr-gaurav-gupta-6-dermatologist-cosmetologist\n",
      "error at- https://www.practo.com/delhi/doctor/dr-gaurav-gupta-6-dermatologist-cosmetologist\n",
      "https://www.practo.com/delhi/doctor/dr-r-p-gupta-dermatologist-cosmetologist-1\n",
      "error at- https://www.practo.com/delhi/doctor/dr-r-p-gupta-dermatologist-cosmetologist-1\n",
      "https://www.practo.com/delhi/doctor/dr-jyoti-sharma-dermatologist-cosmetologist\n",
      "error at- https://www.practo.com/delhi/doctor/dr-jyoti-sharma-dermatologist-cosmetologist\n",
      "https://www.practo.com/delhi/doctor/dr-gaurav-garg-dermatologist-cosmetologist\n",
      "error at- https://www.practo.com/delhi/doctor/dr-gaurav-garg-dermatologist-cosmetologist\n",
      "https://www.practo.com/delhi/doctor/dr-richa-sharma-cosmetic-plastic-surgeon\n",
      "error at- https://www.practo.com/delhi/doctor/dr-richa-sharma-cosmetic-plastic-surgeon\n",
      "https://www.practo.com/delhi/doctor/dr-sooneita-wagh-markan-dermatologist-cosmetologist-dermatologist-cosmetologist\n",
      "error at- https://www.practo.com/delhi/doctor/dr-sooneita-wagh-markan-dermatologist-cosmetologist-dermatologist-cosmetologist\n",
      "https://www.practo.com/delhi/doctor/dr-tapesh-sharma-dermatologist\n",
      "error at- https://www.practo.com/delhi/doctor/dr-tapesh-sharma-dermatologist\n",
      "https://www.practo.com/delhi/doctor/dr-aman-sharma-dermatologist-cosmetologist-1\n",
      "error at- https://www.practo.com/delhi/doctor/dr-aman-sharma-dermatologist-cosmetologist-1\n",
      "https://www.practo.com/delhi/doctor/dr-divya-aggarwal-dermatologist-cosmetologist-2\n",
      "error at- https://www.practo.com/delhi/doctor/dr-divya-aggarwal-dermatologist-cosmetologist-2\n",
      "https://www.practo.com/delhi/doctor/dr-gaurav-nakra-dermatologist-cosmetologist\n",
      "error at- https://www.practo.com/delhi/doctor/dr-gaurav-nakra-dermatologist-cosmetologist\n",
      "https://www.practo.com/delhi/dermatologist?page=2\n",
      "Major link error at https://www.practo.com/delhi/dermatologist?page=2\n",
      "https://www.practo.com/delhi/doctor/dr-gaurav-gupta-6-dermatologist-cosmetologist\n",
      "error at- https://www.practo.com/delhi/doctor/dr-gaurav-gupta-6-dermatologist-cosmetologist\n",
      "https://www.practo.com/delhi/doctor/dr-r-p-gupta-dermatologist-cosmetologist-1\n",
      "error at- https://www.practo.com/delhi/doctor/dr-r-p-gupta-dermatologist-cosmetologist-1\n",
      "https://www.practo.com/delhi/doctor/dr-jyoti-sharma-dermatologist-cosmetologist\n"
     ]
    }
   ],
   "source": [
    "#soup=soup_up(links[50])\n",
    "import pandas as pd\n",
    "#df = pd.DataFrame()\n",
    "ax=pd.DataFrame()\n",
    "for k in links[250:]:\n",
    "    try:\n",
    "        soup=soup_up(k)\n",
    "    except:\n",
    "        print \"Major link error at \"+ str(k)\n",
    "    sub_links=[]\n",
    "    for a in soup.find_all('a', class_='link doc-name smokeliftDoctorLink fm-target'):\n",
    "        sub_links.append(a['href'])\n",
    "    for o in sub_links:\n",
    "        try:\n",
    "\n",
    "            ax=ax.append(scrape_doc(o),ignore_index=True)\n",
    "            \n",
    "            print len(df)\n",
    "        except:\n",
    "            print \"error at- \" + str(o)"
   ]
  },
  {
   "cell_type": "code",
   "execution_count": null,
   "metadata": {
    "collapsed": false,
    "scrolled": true
   },
   "outputs": [],
   "source": [
    "links[250]"
   ]
  },
  {
   "cell_type": "code",
   "execution_count": null,
   "metadata": {
    "collapsed": false,
    "scrolled": true
   },
   "outputs": [],
   "source": [
    "ex=pd.read_csv('records-250.csv')"
   ]
  },
  {
   "cell_type": "code",
   "execution_count": null,
   "metadata": {
    "collapsed": false
   },
   "outputs": [],
   "source": [
    "ew = pd.ExcelWriter('test.xlsx',options={'encoding':'utf-8'})\n",
    "ex.to_excel(ew)\n",
    "ew.save()"
   ]
  },
  {
   "cell_type": "code",
   "execution_count": null,
   "metadata": {
    "collapsed": false
   },
   "outputs": [],
   "source": [
    "scrape_doc(sub_links[4])"
   ]
  },
  {
   "cell_type": "code",
   "execution_count": null,
   "metadata": {
    "collapsed": false
   },
   "outputs": [],
   "source": []
  },
  {
   "cell_type": "code",
   "execution_count": null,
   "metadata": {
    "collapsed": true
   },
   "outputs": [],
   "source": []
  }
 ],
 "metadata": {
  "anaconda-cloud": {},
  "kernelspec": {
   "display_name": "Python [conda root]",
   "language": "python",
   "name": "conda-root-py"
  },
  "language_info": {
   "codemirror_mode": {
    "name": "ipython",
    "version": 2
   },
   "file_extension": ".py",
   "mimetype": "text/x-python",
   "name": "python",
   "nbconvert_exporter": "python",
   "pygments_lexer": "ipython2",
   "version": "2.7.12"
  }
 },
 "nbformat": 4,
 "nbformat_minor": 1
}
