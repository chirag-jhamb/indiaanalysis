{
 "cells": [
  {
   "cell_type": "code",
   "execution_count": 1,
   "metadata": {
    "collapsed": false
   },
   "outputs": [],
   "source": [
    "from wikitables import import_tables\n",
    "import json\n",
    "tables = import_tables('List_of_Indian_records_in_athletics')"
   ]
  },
  {
   "cell_type": "code",
   "execution_count": 2,
   "metadata": {
    "collapsed": false
   },
   "outputs": [],
   "source": [
    "t0=tables[0].json()\n",
    "t1=tables[1].json()\n",
    "t2=tables[2].json()\n",
    "t3=tables[3].json()\n",
    "with open('outdoor-men.txt', 'w') as outfile:\n",
    "    json.dump(t0, outfile)\n",
    "with open('outdoor-women.txt', 'w') as outfile:\n",
    "    json.dump(t1, outfile)\n",
    "with open('indoor-men.txt', 'w') as outfile:\n",
    "    json.dump(t2, outfile)\n",
    "with open('indoor-women.txt', 'w') as outfile:\n",
    "    json.dump(t3, outfile)"
   ]
  }
 ],
 "metadata": {
  "kernelspec": {
   "display_name": "Python [Root]",
   "language": "python",
   "name": "Python [Root]"
  },
  "language_info": {
   "codemirror_mode": {
    "name": "ipython",
    "version": 2
   },
   "file_extension": ".py",
   "mimetype": "text/x-python",
   "name": "python",
   "nbconvert_exporter": "python",
   "pygments_lexer": "ipython2",
   "version": "2.7.12"
  }
 },
 "nbformat": 4,
 "nbformat_minor": 0
}
