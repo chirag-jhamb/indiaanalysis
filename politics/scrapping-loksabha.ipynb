{
 "cells": [
  {
   "cell_type": "code",
   "execution_count": 1,
   "metadata": {
    "collapsed": false
   },
   "outputs": [],
   "source": [
    "from pyquery import PyQuery as pq\n",
    "import urllib2\n",
    "import requests\n",
    "import pandas as pd\n",
    "import re\n",
    "import time\n",
    "import numpy as np\n",
    "from time import sleep"
   ]
  },
  {
   "cell_type": "markdown",
   "metadata": {},
   "source": [
    "### 1. Define URLs:###"
   ]
  },
  {
   "cell_type": "code",
   "execution_count": 2,
   "metadata": {
    "collapsed": false
   },
   "outputs": [],
   "source": [
    "base_2014 = \"http://myneta.info/ls2014/\"\n",
    "base_2009 = \"http://myneta.info/ls2009/\"\n",
    "base_2004 = \"http://myneta.info/loksabha2004/\"\n",
    "\n",
    "#url_list={'2004':ls_2004,'2009':ls_2009,'2014':ls_2014}\n",
    "base_urls = {'2004':base_2004,'2009':base_2009,'2014':base_2014}"
   ]
  },
  {
   "cell_type": "markdown",
   "metadata": {},
   "source": [
    "### 2. Define key functions to get data ###"
   ]
  },
  {
   "cell_type": "markdown",
   "metadata": {},
   "source": [
    "#### The following functions returns a dataframe of constituencies within a state####"
   ]
  },
  {
   "cell_type": "code",
   "execution_count": 3,
   "metadata": {
    "collapsed": false
   },
   "outputs": [],
   "source": [
    "def get_constituents(year, thelink):\n",
    "    html = requests.get(thelink)\n",
    "    doc = pq(html.content)\n",
    "    trs = doc('table').eq(2).find('tr')\n",
    "    datalist=[]\n",
    "    print \"\"\n",
    "    print \"Number of constituent: %s :\" % len(trs),\n",
    "    for tr in trs:\n",
    "        new_state = pq(tr)('th').text()\n",
    "        if new_state != \"\":\n",
    "            print \"!\",\n",
    "            curr_state = new_state \n",
    "            #print \"state: %s\" % curr_state\n",
    "        else:\n",
    "            print \".\",\n",
    "            districts = pq(tr)('td')\n",
    "            if districts != \"\":\n",
    "                for x in districts:\n",
    "                    dist_name = pq(x)('a').text()\n",
    "                    if dist_name != \"\":\n",
    "                        district_dict = {'year':year, 'state':curr_state}\n",
    "                        district_dict['district'] = dist_name\n",
    "                        district_dict['thelink'] = pq(x)('a').attr.href\n",
    "                        datalist.append(district_dict)\n",
    "\n",
    "    return pd.DataFrame(datalist)\n"
   ]
  },
  {
   "cell_type": "markdown",
   "metadata": {},
   "source": [
    "#### The following functions returns a dataframe of candidates from a constituency####"
   ]
  },
  {
   "cell_type": "code",
   "execution_count": 4,
   "metadata": {
    "collapsed": false
   },
   "outputs": [],
   "source": [
    "def get_candidates(constituency, state, thelink, year):\n",
    "\n",
    "    masterlink = thelink\n",
    "    thepage = requests.get(masterlink)\n",
    "    doc = pq(thepage.content)\n",
    "\n",
    "    trs = doc('table').eq(2).children('tr')\n",
    "\n",
    "    #print pq(trs)\n",
    "    datalist = []\n",
    "\n",
    "    for tr in trs[1:]:\n",
    "        candidate_dict = {'Year':year, 'State':state, 'Constituency':constituency, 'Winner': 0}\n",
    "        for i,td in enumerate(pq(tr)('td')):\n",
    "            if i == 0:\n",
    "                candidate_dict['Name'] = pq(td)('a').text()\n",
    "                candidate_dict['Link'] = pq(td)('a').attr.href\n",
    "                if pq(td)('font').text() == \"Winner\":\n",
    "                    candidate_dict['Winner'] = 1\n",
    "            if i == 1:\n",
    "                candidate_dict['Party'] = pq(td).text()\n",
    "            if i == 2:\n",
    "                candidate_dict['Criminal_Cases'] = pq(td).text()\n",
    "            if i == 3:\n",
    "                candidate_dict['Education'] = pq(td).text()                \n",
    "            if i == 4:\n",
    "                candidate_dict['Age'] = pq(td).text() \n",
    "            if i == 5:\n",
    "                candidate_dict['Assets_Rs'] = td.text.replace(\"Rs\",'').replace(',','').lstrip()\n",
    "            if i == 6:\n",
    "                candidate_dict['Liabilities_Rs'] = td.text.replace(\"Rs\",'').replace(',','').lstrip()\n",
    "        datalist.append(candidate_dict)\n",
    "    return pd.DataFrame(datalist)"
   ]
  },
  {
   "cell_type": "markdown",
   "metadata": {
    "collapsed": true
   },
   "source": [
    "### 3. Put it all together and get dataframes###"
   ]
  },
  {
   "cell_type": "markdown",
   "metadata": {
    "collapsed": true
   },
   "source": [
    "Get all the contituencies"
   ]
  },
  {
   "cell_type": "code",
   "execution_count": 5,
   "metadata": {
    "collapsed": false
   },
   "outputs": [
    {
     "name": "stdout",
     "output_type": "stream",
     "text": [
      "\n",
      "Number of constituent: 226 : ! . . ! . . . . . . . . ! . . ! . . . . . ! . . . . . . . . . . . ! . . ! . . . . ! . . ! . . ! . . ! . . . . . . . . ! . . . . ! . . ! . . . ! . . . . . ! . . . . . . . . ! . . . . . . ! . . ! . . . . . . . . . ! . . . . . . . . . . . . . ! . . ! . . ! . . ! . . ! . . . ! . . . . . . . ! . . ! . . . . . ! . . . . . . . . ! . . ! . . . . . . . . . . . ! . . . . . . ! . . ! . . . . . . . . . . . . . . . . . . . . . ! . . . ! . . . . . . . . . . . . \n",
      "Number of constituent: 223 : ! . . ! . . . . . . . . . . . . ! . . ! . . . . . ! . . . . . . . . . . . ! . . ! . . . . ! . . ! . . ! . . ! . . . . . . . . ! . . . . ! . . ! . . . ! . . . . . ! . . . . . . . . ! . . . . . . ! . . ! . . . . . . . . . ! . . . . . . . . . . . . . ! . . ! . . ! . . ! . . ! . . . ! . . . . . . . ! . . ! . . . . . ! . . . . . . . . ! . . ! . . . . . . . . . . . ! . . ! . . . . . . . . . . . . . . . . . . . . . ! . . . ! . . . . . . . . . . . . \n",
      "Number of constituent: 223 : ! . . ! . . . . . . . . . . . . ! . . ! . . . . . ! . . . . . . . . . . . ! . . ! . . . . ! . . ! . . ! . . ! . . . . . . . . ! . . . . ! . . ! . . . ! . . . . . ! . . . . . . . . ! . . . . . . ! . . ! . . . . . . . . . ! . . . . . . . . . . . . . ! . . ! . . ! . . ! . . ! . . . ! . . . . . . . ! . . ! . . . . . ! . . . . . . . . ! . . ! . . . . . . . . . . . ! . . ! . . . . . . . . . . . . . . . . . . . . . ! . . . ! . . . . . . . . . . . .CPU times: user 640 ms, sys: 24 ms, total: 664 ms\n",
      "Wall time: 10.6 s\n",
      "\n"
     ]
    }
   ],
   "source": [
    "%%time\n",
    "constituency_list = []\n",
    "\n",
    "for year, url in base_urls.iteritems():\n",
    "    constituency_list.append(get_constituents(year, url))\n",
    "\n",
    "constituency_df = pd.concat(constituency_list)"
   ]
  },
  {
   "cell_type": "markdown",
   "metadata": {},
   "source": [
    "Get the constituents for each constituency"
   ]
  },
  {
   "cell_type": "code",
   "execution_count": 6,
   "metadata": {
    "collapsed": false
   },
   "outputs": [
    {
     "name": "stdout",
     "output_type": "stream",
     "text": [
      ". . . . . . . . . . . . . . . . . . . . . . . . . . . . . . . . . . . . . . . . . . . . . . . . . . . . . . . . . . . . . . . . . . . . . . . . . . . . . . . . . . . . . . . . . . . . . . . . . . . . . . . . . . . . . . . . . . . . . . . . . . . . . . . . . . . . . . . . . . . . . . . . . . . . . . . . . . . . . . . . . . . . .CPU times: user 31.4 s, sys: 1.55 s, total: 33 s\n",
      "Wall time: 8min 49s\n",
      "\n"
     ]
    }
   ],
   "source": [
    "%%time\n",
    "candidates_list = []\n",
    "\n",
    "for index, row in constituency_df.iterrows() :\n",
    "    temp_df = get_candidates(row['district'], row['state'], base_urls[row['year']]+row['thelink'], row['year'])\n",
    "    candidates_list.append(temp_df)\n",
    "    if index % 10 == 0:\n",
    "        print \".\",\n",
    "    #sleep(1)\n",
    "candidates_df = pd.concat(candidates_list)"
   ]
  },
  {
   "cell_type": "code",
   "execution_count": 7,
   "metadata": {
    "collapsed": false
   },
   "outputs": [
    {
     "name": "stdout",
     "output_type": "stream",
     "text": [
      "Age               19135\n",
      "Assets_Rs         19135\n",
      "Constituency      19135\n",
      "Criminal_Cases    19135\n",
      "Education         19135\n",
      "Liabilities_Rs    19135\n",
      "Link              19135\n",
      "Name              19135\n",
      "Party             19135\n",
      "State             19135\n",
      "Winner            19135\n",
      "Year              19135\n",
      "dtype: int64\n"
     ]
    }
   ],
   "source": [
    "print candidates_df.count()\n",
    "candidates_df[len(candidates_df)-100:len(candidates_df)].head(3)\n",
    "candidates_df.to_csv('candidates.csv')"
   ]
  }
 ],
 "metadata": {
  "kernelspec": {
   "display_name": "Python [Root]",
   "language": "python",
   "name": "Python [Root]"
  },
  "language_info": {
   "codemirror_mode": {
    "name": "ipython",
    "version": 2
   },
   "file_extension": ".py",
   "mimetype": "text/x-python",
   "name": "python",
   "nbconvert_exporter": "python",
   "pygments_lexer": "ipython2",
   "version": "2.7.12"
  }
 },
 "nbformat": 4,
 "nbformat_minor": 0
}
