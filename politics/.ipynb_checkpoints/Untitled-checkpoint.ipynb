{
 "cells": [
  {
   "cell_type": "code",
   "execution_count": 23,
   "metadata": {
    "collapsed": true
   },
   "outputs": [],
   "source": [
    "import pandas as pd\n",
    "import numpy as np\n",
    "from sklearn import preprocessing\n",
    "candidates = pd.read_csv(\"candidates.csv\")"
   ]
  },
  {
   "cell_type": "code",
   "execution_count": 24,
   "metadata": {
    "collapsed": false
   },
   "outputs": [
    {
     "name": "stdout",
     "output_type": "stream",
     "text": [
      "CPU times: user 22.3 s, sys: 16 ms, total: 22.3 s\n",
      "Wall time: 22.3 s\n"
     ]
    }
   ],
   "source": [
    "%%time\n",
    "candidates.columns = map(str.lower, candidates.columns)\n",
    "del candidates[candidates.columns[0]]\n",
    "candidates.link=candidates.link.apply(lambda x: x[27:])\n",
    "le = preprocessing.LabelEncoder()\n",
    "le.fit(candidates.constituency)\n",
    "candidates['constituency_']=le.transform(candidates.constituency)\n",
    "le.fit(candidates.party)\n",
    "candidates['party_']=le.transform(candidates.party)\n",
    "le.fit(candidates.name)\n",
    "candidates['name_']=le.transform(candidates.name)\n",
    "#le.fit(candidates.state)\n",
    "#candidates['state_']=le.transform(candidates.state)\n",
    "le.fit(candidates.education)\n",
    "candidates['education_']=le.transform(candidates.education)\n",
    "\n",
    "c = pd.get_dummies(candidates.state, prefix = \"state\")\n",
    "candidates = candidates.join(c)\n",
    "#c = pd.get_dummies(candidates.education)\n",
    "#candidates = candidates.join(c)\n",
    "for i,r in candidates.iterrows():\n",
    "    try:\n",
    "        #r.assets_rs=int(r.assets_rs)\n",
    "        candidates.loc[i, 'assets_rs'] = int(r.assets_rs)\n",
    "    except:\n",
    "        candidates.loc[i, 'assets_rs'] = int(0)"
   ]
  },
  {
   "cell_type": "code",
   "execution_count": 25,
   "metadata": {
    "collapsed": false
   },
   "outputs": [
    {
     "name": "stdout",
     "output_type": "stream",
     "text": [
      "Total features to train: 46\n"
     ]
    },
    {
     "name": "stderr",
     "output_type": "stream",
     "text": [
      "/root/anaconda2/lib/python2.7/site-packages/ipykernel/__main__.py:2: FutureWarning: using '-' to provide set differences with Indexes is deprecated, use .difference()\n",
      "  from ipykernel import kernelapp as app\n"
     ]
    }
   ],
   "source": [
    "#features to be used for training-\n",
    "features=candidates.columns-['constituency','education','party','name','state','winner','year','link']\n",
    "#features to be used later for visualisations-\n",
    "v=['assets_rs','liabilities_rs','constituency','education','party','name','state','winner','year']\n",
    "target=['winner']\n",
    "print \"Total features to train: \" + str(len(features))"
   ]
  },
  {
   "cell_type": "code",
   "execution_count": 26,
   "metadata": {
    "collapsed": false,
    "scrolled": false
   },
   "outputs": [
    {
     "name": "stdout",
     "output_type": "stream",
     "text": [
      "Training set has 15308 samples.\n",
      "Testing set has 3827 samples.\n"
     ]
    }
   ],
   "source": [
    "from sklearn import cross_validation\n",
    "from time import time\n",
    "from sklearn.metrics import f1_score\n",
    "# Shuffle and split the dataset into the number of training and testing points above\n",
    "X_train, X_test = cross_validation.train_test_split(candidates, test_size=0.2)\n",
    "# Show the results of the split\n",
    "print \"Training set has {} samples.\".format(X_train.shape[0])\n",
    "print \"Testing set has {} samples.\".format(X_test.shape[0])"
   ]
  },
  {
   "cell_type": "code",
   "execution_count": 27,
   "metadata": {
    "collapsed": false
   },
   "outputs": [],
   "source": [
    "def train_classifier(clf, X_train, y_train):\n",
    "    ''' Fits a classifier to the training data. '''\n",
    "    \n",
    "    # Start the clock, train the classifier, then stop the clock\n",
    "    start = time()\n",
    "    clf.fit(X_train, y_train)\n",
    "    end = time()\n",
    "    \n",
    "    # Print the results\n",
    "    print \"Trained model in {:.4f} seconds\".format(end - start)\n",
    "\n",
    "    \n",
    "def predict_labels(clf, features, target):\n",
    "    ''' Makes predictions using a fit classifier based on F1 score. '''\n",
    "    \n",
    "    # Start the clock, make predictions, then stop the clock\n",
    "    start = time()\n",
    "    y_pred = clf.predict(features)\n",
    "    end = time()\n",
    "    \n",
    "    # Print and return results\n",
    "    print \"Made predictions in {:.4f} seconds.\".format(end - start)\n",
    "    return f1_score(target.values, y_pred)\n",
    "\n",
    "\n",
    "def train_predict(clf, X_train, y_train, X_test, y_test):\n",
    "    ''' Train and predict using a classifer based on F1 score. '''\n",
    "    \n",
    "    # Indicate the classifier and the training set size\n",
    "    print \"Training a {} using a training set size of {}. . .\".format(clf.__class__.__name__, len(X_train))\n",
    "    \n",
    "    # Train the classifier\n",
    "    train_classifier(clf, X_train, y_train)\n",
    "    \n",
    "    # Print the results of prediction for both training and testing\n",
    "    print \"F1 score for training set: {:.4f}.\".format(predict_labels(clf, X_train, y_train))\n",
    "    print \"F1 score for test set: {:.4f}.\".format(predict_labels(clf, X_test, y_test))"
   ]
  },
  {
   "cell_type": "code",
   "execution_count": 28,
   "metadata": {
    "collapsed": true
   },
   "outputs": [],
   "source": [
    "from sklearn.tree import DecisionTreeClassifier\n",
    "from sklearn.ensemble import GradientBoostingClassifier\n",
    "from sklearn.neighbors.nearest_centroid import NearestCentroid\n",
    "\n",
    "# TODO: Initialize the three models\n",
    "clf_A = DecisionTreeClassifier(random_state=0)\n",
    "clf_B = GradientBoostingClassifier(random_state=0)\n",
    "clf_C = NearestCentroid()"
   ]
  },
  {
   "cell_type": "code",
   "execution_count": 29,
   "metadata": {
    "collapsed": false
   },
   "outputs": [
    {
     "name": "stdout",
     "output_type": "stream",
     "text": [
      "Training a DecisionTreeClassifier using a training set size of 15308. . .\n",
      "Trained model in 0.1775 seconds\n",
      "Made predictions in 0.0489 seconds.\n",
      "F1 score for training set: 1.0000.\n",
      "Made predictions in 0.0111 seconds.\n",
      "F1 score for test set: 0.4729.\n",
      "Training a GradientBoostingClassifier using a training set size of 15308. . .\n"
     ]
    },
    {
     "name": "stderr",
     "output_type": "stream",
     "text": [
      "/root/anaconda2/lib/python2.7/site-packages/sklearn/utils/validation.py:515: DataConversionWarning: A column-vector y was passed when a 1d array was expected. Please change the shape of y to (n_samples, ), for example using ravel().\n",
      "  y = column_or_1d(y, warn=True)\n"
     ]
    },
    {
     "name": "stdout",
     "output_type": "stream",
     "text": [
      "Trained model in 2.6563 seconds\n",
      "Made predictions in 0.1039 seconds.\n",
      "F1 score for training set: 0.4315.\n",
      "Made predictions in 0.0209 seconds.\n",
      "F1 score for test set: 0.4077.\n",
      "Training a NearestCentroid using a training set size of 15308. . .\n",
      "Trained model in 0.0517 seconds\n",
      "Made predictions in 0.0531 seconds.\n",
      "F1 score for training set: 0.2539.\n",
      "Made predictions in 0.0119 seconds.\n",
      "F1 score for test set: 0.2667.\n"
     ]
    },
    {
     "name": "stderr",
     "output_type": "stream",
     "text": [
      "/root/anaconda2/lib/python2.7/site-packages/sklearn/utils/validation.py:515: DataConversionWarning: A column-vector y was passed when a 1d array was expected. Please change the shape of y to (n_samples, ), for example using ravel().\n",
      "  y = column_or_1d(y, warn=True)\n"
     ]
    }
   ],
   "source": [
    "train_predict(clf_A, X_train[features], X_train[target], X_test[features], X_test[target])\n",
    "train_predict(clf_B, X_train[features], X_train[target], X_test[features], X_test[target])\n",
    "train_predict(clf_C, X_train[features], X_train[target], X_test[features], X_test[target])"
   ]
  },
  {
   "cell_type": "code",
   "execution_count": 30,
   "metadata": {
    "collapsed": false
   },
   "outputs": [],
   "source": [
    "feat={}\n",
    "for i,j in zip(features,clf_A.feature_importances_):\n",
    "    feat[i]=j\n",
    "df=pd.DataFrame(feat.items(), columns=['name', 'value'])\n",
    "df=df.sort_values('value', axis=0,ascending=False)"
   ]
  },
  {
   "cell_type": "code",
   "execution_count": 31,
   "metadata": {
    "collapsed": false
   },
   "outputs": [
    {
     "data": {
      "text/plain": [
       "[<matplotlib.text.Text at 0x7f341b888850>,\n",
       " <matplotlib.text.Text at 0x7f342a5e8390>]"
      ]
     },
     "execution_count": 31,
     "metadata": {},
     "output_type": "execute_result"
    },
    {
     "data": {
      "image/png": "[encoded data removed]",
      "text/plain": [
       "<matplotlib.figure.Figure at 0x7f341b8bef90>"
      ]
     },
     "metadata": {},
     "output_type": "display_data"
    }
   ],
   "source": [
    "import matplotlib\n",
    "%matplotlib inline\n",
    "import seaborn as sns\n",
    "import matplotlib.pyplot as plt\n",
    "fig, ax = plt.subplots(figsize=(9, 9))\n",
    "ax=sns.barplot(x=\"name\", y=\"value\",data=df[:7], palette=sns.light_palette(\"purple\", reverse=True,n_colors=8))\n",
    "for item in ax.get_xticklabels():\n",
    "    item.set_rotation(5)\n",
    "ax.set(xlabel='Decision feature', ylabel='Importance ratio')"
   ]
  },
  {
   "cell_type": "markdown",
   "metadata": {},
   "source": [
    "### Check difference in assets and liabilities 5 years after winning-"
   ]
  },
  {
   "cell_type": "code",
   "execution_count": 94,
   "metadata": {
    "collapsed": false
   },
   "outputs": [],
   "source": [
    "candidates=candidates[v]\n",
    "winners = candidates[candidates.winner != 0]\n",
    "winner_2004 = winners[winners.year == 2004]\n",
    "winner_2009 = winners[winners.year == 2009]"
   ]
  },
  {
   "cell_type": "code",
   "execution_count": 95,
   "metadata": {
    "collapsed": false,
    "scrolled": false
   },
   "outputs": [],
   "source": [
    "df = pd.DataFrame()\n",
    "df2 = pd.DataFrame()\n",
    "for i in winner_2004.name:\n",
    "    df=df.append(candidates.loc[candidates['name'] == i])\n",
    "df=df[df.year == 2009]\n",
    "for i in winner_2009.name:\n",
    "    df2=df2.append(candidates.loc[candidates['name'] == i])\n",
    "df2=df2[df2.year == 2014]\n"
   ]
  },
  {
   "cell_type": "code",
   "execution_count": 99,
   "metadata": {
    "collapsed": false
   },
   "outputs": [
    {
     "name": "stdout",
     "output_type": "stream",
     "text": [
      "Average change in assets of winners of 2004 = 34460307.2092\n",
      "Average change in liabilities of winners of 2004 = 702747.254902\n",
      "Average money gained = Rs. 33757559.9542\n"
     ]
    }
   ],
   "source": [
    "i=df.set_index(['name']).assets_rs-winner_2004.set_index(['name']).assets_rs\n",
    "j=df.set_index(['name']).liabilities_rs-winner_2004.set_index(['name']).liabilities_rs\n",
    "i=i[~i.isnull()]\n",
    "j=j[~j.isnull()]\n",
    "print \"Average change in assets of winners of 2004 =\",i.mean()\n",
    "print \"Average change in liabilities of winners of 2004 =\",j.mean()\n",
    "print \"Average money gained = Rs.\",i.mean()-j.mean()"
   ]
  },
  {
   "cell_type": "code",
   "execution_count": 101,
   "metadata": {
    "collapsed": false
   },
   "outputs": [
    {
     "name": "stdout",
     "output_type": "stream",
     "text": [
      "Average change in assets of winners of 2009 = 55268498.3095\n",
      "Average change in liabilities of winners of 2009 = 8466335.88095\n",
      "Average money gained = Rs. 46802162.4286\n"
     ]
    }
   ],
   "source": [
    "i=df2.set_index(['name']).assets_rs-winner_2009.set_index(['name']).assets_rs\n",
    "j=df2.set_index(['name']).liabilities_rs-winner_2009.set_index(['name']).liabilities_rs\n",
    "i=i[~i.isnull()]\n",
    "j=j[~j.isnull()]\n",
    "print \"Average change in assets of winners of 2009 =\",i.mean()\n",
    "print \"Average change in liabilities of winners of 2009 =\",j.mean()\n",
    "print \"Average money gained = Rs.\",i.mean()-j.mean()"
   ]
  },
  {
   "cell_type": "code",
   "execution_count": 113,
   "metadata": {
    "collapsed": false
   },
   "outputs": [
    {
     "name": "stdout",
     "output_type": "stream",
     "text": [
      "Education level of winners of 2009- \n",
      "Graduate                 135\n",
      "Post Graduate            128\n",
      "Graduate Professional    107\n",
      "12th Pass                 51\n",
      "10th Pass                 48\n",
      "Doctorate                 23\n",
      "5th Pass                   9\n",
      "8th Pass                   8\n",
      "Others                     6\n",
      "Literate                   5\n",
      "dtype: int64\n"
     ]
    }
   ],
   "source": [
    "print \"Education level of winners of 2004- \"\n",
    "print pd.value_counts(winner_2004.education.ravel())"
   ]
  },
  {
   "cell_type": "code",
   "execution_count": 114,
   "metadata": {
    "collapsed": false
   },
   "outputs": [
    {
     "name": "stdout",
     "output_type": "stream",
     "text": [
      "Education level of winners of 2009- \n",
      "Graduate                 135\n",
      "Post Graduate            128\n",
      "Graduate Professional    107\n",
      "12th Pass                 51\n",
      "10th Pass                 48\n",
      "Doctorate                 23\n",
      "5th Pass                   9\n",
      "8th Pass                   8\n",
      "Others                     6\n",
      "Literate                   5\n",
      "dtype: int64\n"
     ]
    }
   ],
   "source": [
    "print \"Education level of winners of 2009- \"\n",
    "print pd.value_counts(winner_2009.education.ravel())"
   ]
  },
  {
   "cell_type": "code",
   "execution_count": null,
   "metadata": {
    "collapsed": true
   },
   "outputs": [],
   "source": []
  }
 ],
 "metadata": {
  "kernelspec": {
   "display_name": "Python [Root]",
   "language": "python",
   "name": "Python [Root]"
  },
  "language_info": {
   "codemirror_mode": {
    "name": "ipython",
    "version": 2
   },
   "file_extension": ".py",
   "mimetype": "text/x-python",
   "name": "python",
   "nbconvert_exporter": "python",
   "pygments_lexer": "ipython2",
   "version": "2.7.12"
  }
 },
 "nbformat": 4,
 "nbformat_minor": 0
}
