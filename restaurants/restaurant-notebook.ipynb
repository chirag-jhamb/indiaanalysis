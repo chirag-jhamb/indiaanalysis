{
 "cells": [
  {
   "cell_type": "code",
   "execution_count": 25,
   "metadata": {
    "collapsed": true
   },
   "outputs": [],
   "source": [
    "import pandas as pd\n",
    "import numpy as np\n",
    "delhi = pd.read_csv(\"delhi-restaurants.csv\")\n",
    "bangalore = pd.read_csv(\"bangalore-restaurants.csv\")\n",
    "goa = pd.read_csv(\"goa-restaurants.csv\")"
   ]
  },
  {
   "cell_type": "code",
   "execution_count": 26,
   "metadata": {
    "collapsed": false
   },
   "outputs": [],
   "source": [
    "states=[\"delhi\",\"bangalore\",\"goa\"]\n",
    "delhi.insert(1,'state',states[0],allow_duplicates=True)\n",
    "bangalore.insert(1,'state',states[1],allow_duplicates=True)\n",
    "goa.insert(1,'state',states[2],allow_duplicates=True)\n",
    "\n",
    "#Concatenate all states into one dataframe-\n",
    "total = pd.concat([delhi,bangalore,goa], ignore_index=True)\n",
    "total = total[total.rating != '-']\n",
    "total['rating'] = total['rating'].apply(pd.to_numeric)"
   ]
  },
  {
   "cell_type": "code",
   "execution_count": 3,
   "metadata": {
    "collapsed": false
   },
   "outputs": [],
   "source": [
    "from datetime import *\n",
    "import dateutil.parser as dparser\n",
    "from sklearn import preprocessing\n",
    "def time_it(t):\n",
    "    #function to handle timings available in form of fuzzy strings\n",
    "    if (\"Noon\" in t):\n",
    "        t=\"12 PM\"\n",
    "    elif (\"Midnight\" in t):\n",
    "        t=\"12 AM\"\n",
    "    try:\n",
    "        t=int(dparser.parse(t,fuzzy=True).strftime('%H'))\n",
    "    except:\n",
    "        t=0\n",
    "    return t\n",
    "\n",
    "def preprocess(data):\n",
    "    #rename columns to get rid of symbols and spaces\n",
    "    data=data.rename(columns = {'cost for 2':'cost'})\n",
    "    data=data.rename(columns = {'review-count':'reviews'})\n",
    "    data.fillna(0,axis=0,inplace=True)\n",
    "    #convert dummy variables\n",
    "    data=pd.concat([data, data['cuisines'].str.get_dummies(sep=', ')], axis=1)\n",
    "    #remove ruppee symbol\n",
    "    data['cost'] = data['cost'].str.replace(',','')\n",
    "    data['cost'] = data['cost'].str.replace('-','')\n",
    "    data['reviews'] = data['reviews'].str.replace(',','')\n",
    "    data['reviews'] = data['reviews'].str.replace('-','')\n",
    "    data['cost'] = data['cost'].map(lambda x: int(str(x)[3:]))\n",
    "    data['reviews'] = data['reviews'].map(lambda x: int(str(x)[:-7]))\n",
    "    data.rating=data.rating.fillna(\"\")\n",
    "    for index,r in data.iterrows():\n",
    "            o=time_it(r.timings[:8])\n",
    "            data.set_value(index,'opening',o)\n",
    "            c=time_it(r.timings[-8:])\n",
    "            data.set_value(index,'closing',c)\n",
    "    return data"
   ]
  },
  {
   "cell_type": "code",
   "execution_count": 4,
   "metadata": {
    "collapsed": false
   },
   "outputs": [
    {
     "name": "stdout",
     "output_type": "stream",
     "text": [
      "CPU times: user 10.1 s, sys: 388 ms, total: 10.5 s\n",
      "Wall time: 10.5 s\n"
     ]
    }
   ],
   "source": [
    "%%time\n",
    "total=preprocess(total)"
   ]
  },
  {
   "cell_type": "code",
   "execution_count": null,
   "metadata": {
    "collapsed": false
   },
   "outputs": [],
   "source": []
  },
  {
   "cell_type": "code",
   "execution_count": 5,
   "metadata": {
    "collapsed": false
   },
   "outputs": [],
   "source": [
    "le = preprocessing.LabelEncoder()\n",
    "le.fit(total.state)\n",
    "total.state=le.transform(total.state)"
   ]
  },
  {
   "cell_type": "code",
   "execution_count": 6,
   "metadata": {
    "collapsed": false
   },
   "outputs": [],
   "source": [
    "#define features to be used and target to be predicted\n",
    "features=total.columns.difference(['cuisines','timings','rating','name'])\n",
    "target='rating'"
   ]
  },
  {
   "cell_type": "code",
   "execution_count": 7,
   "metadata": {
    "collapsed": false
   },
   "outputs": [
    {
     "name": "stdout",
     "output_type": "stream",
     "text": [
      "Training set has 11548 samples.\n",
      "Testing set has 2887 samples.\n"
     ]
    }
   ],
   "source": [
    "from sklearn import cross_validation\n",
    "# Shuffle and split the dataset into the number of training and testing points above\n",
    "X_train, X_test = cross_validation.train_test_split(total, test_size=0.2)\n",
    "# Show the results of the split\n",
    "print \"Training set has {} samples.\".format(X_train.shape[0])\n",
    "print \"Testing set has {} samples.\".format(X_test.shape[0])"
   ]
  },
  {
   "cell_type": "code",
   "execution_count": 8,
   "metadata": {
    "collapsed": true
   },
   "outputs": [],
   "source": [
    "from sklearn.metrics import mean_squared_error\n",
    "from time import time\n",
    "def train_regressor(rgr, X_train, y_train):\n",
    "    ''' Fits a regressor to the training data. '''\n",
    "    # Start the clock, train the regressor, then stop the clock\n",
    "    start = time()\n",
    "    rgr.fit(X_train, y_train)\n",
    "    end = time()\n",
    "    # Print the results\n",
    "    print \"Trained model in {:.4f} seconds\".format(end - start)\n",
    "\n",
    "\n",
    "def predict_labels(rgr, features, target):\n",
    "    ''' Makes predictions using a fit regressor based on mean_squared_error '''\n",
    "    \n",
    "    # Start the clock, make predictions, then stop the clock\n",
    "    start = time()\n",
    "    y_pred = rgr.predict(features)\n",
    "    end = time()\n",
    "    \n",
    "    # Print and return results\n",
    "    print \"Made predictions in {:.4f} seconds.\".format(end - start)\n",
    "    #return mean_squared_error(target.values, y_pred)\n",
    "    return np.sqrt(((y_pred - target.values) ** 2).mean())\n",
    "\n",
    "\n",
    "\n",
    "def train_predict(rgr, X_train, y_train, X_test, y_test):\n",
    "    ''' Train and predict using a regressor based on error. '''\n",
    "    \n",
    "    # Indicate the regressor and the training set size\n",
    "    print \"Training a {} using a training set size of {}. . .\".format(rgr.__class__.__name__, len(X_train))\n",
    "    \n",
    "    # Train the regressor\n",
    "    train_regressor(rgr, X_train, y_train)\n",
    "    \n",
    "    # Print the results of prediction for both training and testing\n",
    "    print \"mean_squared_error for training set: {:.4f}.\".format(predict_labels(rgr, X_train, y_train))\n",
    "    print \"mean_squared_error for test set: {:.4f}.\".format(predict_labels(rgr, X_test, y_test))"
   ]
  },
  {
   "cell_type": "code",
   "execution_count": 9,
   "metadata": {
    "collapsed": true
   },
   "outputs": [],
   "source": [
    "from sklearn.neighbors import KNeighborsRegressor\n",
    "from sklearn.ensemble import GradientBoostingRegressor\n",
    "from sklearn.tree import DecisionTreeRegressor\n",
    "rgr_A = DecisionTreeRegressor(random_state=0)\n",
    "rgr_B = KNeighborsRegressor()\n",
    "rgr_C = GradientBoostingRegressor()"
   ]
  },
  {
   "cell_type": "code",
   "execution_count": 10,
   "metadata": {
    "collapsed": false
   },
   "outputs": [
    {
     "name": "stdout",
     "output_type": "stream",
     "text": [
      "Training a DecisionTreeRegressor using a training set size of 11548. . .\n",
      "Trained model in 0.1832 seconds\n",
      "Made predictions in 0.0095 seconds.\n",
      "mean_squared_error for training set: 0.0248.\n",
      "Made predictions in 0.0027 seconds.\n",
      "mean_squared_error for test set: 0.4926.\n"
     ]
    }
   ],
   "source": [
    "train_predict(rgr_A, X_train[features], X_train[target], X_test[features], X_test[target])"
   ]
  },
  {
   "cell_type": "code",
   "execution_count": 11,
   "metadata": {
    "collapsed": false
   },
   "outputs": [
    {
     "name": "stdout",
     "output_type": "stream",
     "text": [
      "Training a KNeighborsRegressor using a training set size of 11548. . .\n",
      "Trained model in 0.1779 seconds\n",
      "Made predictions in 1.3312 seconds.\n",
      "mean_squared_error for training set: 0.3153.\n",
      "Made predictions in 0.3328 seconds.\n",
      "mean_squared_error for test set: 0.3665.\n"
     ]
    }
   ],
   "source": [
    "train_predict(rgr_B, X_train[features], X_train[target], X_test[features], X_test[target])"
   ]
  },
  {
   "cell_type": "code",
   "execution_count": 12,
   "metadata": {
    "collapsed": false,
    "scrolled": false
   },
   "outputs": [
    {
     "name": "stdout",
     "output_type": "stream",
     "text": [
      "Training a GradientBoostingRegressor using a training set size of 11548. . .\n",
      "Trained model in 2.9691 seconds\n",
      "Made predictions in 0.0353 seconds.\n",
      "mean_squared_error for training set: 0.3425.\n",
      "Made predictions in 0.0082 seconds.\n",
      "mean_squared_error for test set: 0.3276.\n"
     ]
    }
   ],
   "source": [
    "train_predict(rgr_C, X_train[features], X_train[target], X_test[features], X_test[target])"
   ]
  },
  {
   "cell_type": "code",
   "execution_count": 13,
   "metadata": {
    "collapsed": false
   },
   "outputs": [],
   "source": [
    "feat={}\n",
    "for i,j in zip(features,rgr_C.feature_importances_):\n",
    "    feat[i]=j"
   ]
  },
  {
   "cell_type": "code",
   "execution_count": 14,
   "metadata": {
    "collapsed": false
   },
   "outputs": [],
   "source": [
    "v={}\n",
    "for x in ['opening','closing','cost','reviews','state']:\n",
    "    v[x]=feat[x]\n",
    "v['cuisine']=1-sum(v.values())\n",
    "df=pd.DataFrame(v.items(), columns=['name', 'value'])"
   ]
  },
  {
   "cell_type": "code",
   "execution_count": 15,
   "metadata": {
    "collapsed": false,
    "scrolled": false
   },
   "outputs": [
    {
     "data": {
      "text/plain": [
       "[<matplotlib.text.Text at 0x7f501c229ad0>,\n",
       " <matplotlib.text.Text at 0x7f501e82bb50>]"
      ]
     },
     "execution_count": 15,
     "metadata": {},
     "output_type": "execute_result"
    },
    {
     "data": {
      "image/png": "[encoded data removed]",
      "text/plain": [
       "<matplotlib.figure.Figure at 0x7f501e8092d0>"
      ]
     },
     "metadata": {},
     "output_type": "display_data"
    }
   ],
   "source": [
    "#from bokeh.plotting import figure, output_file, show,  output_notebook\n",
    "#from bokeh.charts import Bar\n",
    "import matplotlib\n",
    "%matplotlib inline\n",
    "import seaborn as sns\n",
    "import matplotlib.pyplot as plt\n",
    "ax=sns.barplot(x=\"name\", y=\"value\",data=df, palette=\"Set1\")\n",
    "ax.figsize=(40,40)\n",
    "ax.set(xlabel='Features', ylabel='Importance ratio')"
   ]
  },
  {
   "cell_type": "code",
   "execution_count": 29,
   "metadata": {
    "collapsed": false
   },
   "outputs": [],
   "source": [
    "goa= goa[goa.rating != '-']\n",
    "delhi= delhi[delhi.rating != '-']\n",
    "bangalore= bangalore[bangalore.rating != '-']\n",
    "\n",
    "goa=preprocess(goa)\n",
    "delhi=preprocess(delhi)\n",
    "bangalore=preprocess(bangalore)"
   ]
  },
  {
   "cell_type": "code",
   "execution_count": null,
   "metadata": {
    "collapsed": false
   },
   "outputs": [],
   "source": [
    "#d1=pd.DataFrame(feat.items(), columns=['name', 'value'])"
   ]
  },
  {
   "cell_type": "code",
   "execution_count": 71,
   "metadata": {
    "collapsed": false
   },
   "outputs": [],
   "source": [
    "cuisines_d=delhi.columns.difference(['cuisines','timings','name','opening','closing','cost','reviews','state'])\n",
    "cuisines_g=goa.columns.difference(['cuisines','timings','name','opening','closing','cost','reviews','state'])\n",
    "cuisines_b=bangalore.columns.difference(['cuisines','timings','name','opening','closing','cost','reviews','state'])\n",
    "all_cuisines=features.difference(['cuisines','timings','name','opening','closing','cost','reviews','state','rating'])\n",
    "d={}\n",
    "g={}\n",
    "b={}"
   ]
  },
  {
   "cell_type": "code",
   "execution_count": 88,
   "metadata": {
    "collapsed": false
   },
   "outputs": [],
   "source": [
    "def state_insights(s):\n",
    "    d={}\n",
    "    sd=s.sort_values('rating', axis=0,ascending=False)\n",
    "    d['timing']=str(\"Most retaraunts open between- \" +str(int(sd.describe().iloc[1][-2:-1]))+\"AM to \"+str(int(sd.describe().iloc[1][-1])-12)+\"PM\")\n",
    "    d['cost']=\"Average cost of restaraunts- Rs.\"+str(int(sd.describe().iloc[1][1]))\n",
    "    d['best']=\"Best Restaraunt =\"+str(sd.iloc[0][0])\n",
    "    x=str(d['timing']+\", \"+ d['cost']+\", \"+d['best'])\n",
    "    return d"
   ]
  },
  {
   "cell_type": "code",
   "execution_count": 114,
   "metadata": {
    "collapsed": false
   },
   "outputs": [],
   "source": [
    "p=state_insights(goa)\n",
    "q=state_insights(bangalore)\n",
    "r=state_insights(delhi)\n",
    "x=all_cuisines.difference(cuisines_g)\n",
    "y=all_cuisines.difference(cuisines_b)\n",
    "r=str(r)+\", Unique cuisines of state-\"+str(set(y).intersection(x))[5:-3]\n",
    "y=all_cuisines.difference(cuisines_d)\n",
    "q=str(q)+\", Unique cuisines of state-\"+str(set(y).intersection(x))[5:-3]\n",
    "x=all_cuisines.difference(cuisines_b)\n",
    "p=str(p)+\", Unique cuisines of state-\"+str(set(y).intersection(x))[5:-3]"
   ]
  },
  {
   "cell_type": "code",
   "execution_count": 117,
   "metadata": {
    "collapsed": false
   },
   "outputs": [
    {
     "name": "stderr",
     "output_type": "stream",
     "text": [
      "/root/anaconda2/lib/python2.7/site-packages/ipykernel/__main__.py:2: FutureWarning: initialize_notebook is deprecated and no longer required.\n",
      "  from ipykernel import kernelapp as app\n"
     ]
    },
    {
     "data": {
      "text/html": [
       "<div style=\"width:100%;\"><div style=\"position:relative;width:100%;height:0;padding-bottom:60%;\"><iframe src=\"data:text/html;base64,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\" style=\"position:absolute;width:100%;height:100%;left:0;top:0;\"></iframe></div></div>"
      ],
      "text/plain": [
       "<folium.folium.Map at 0x7f501b9b7510>"
      ]
     },
     "execution_count": 117,
     "metadata": {},
     "output_type": "execute_result"
    }
   ],
   "source": [
    "import folium\n",
    "folium.initialize_notebook()\n",
    "map_2 = folium.Map(location=[20.8913, 78.0792],tiles='Stamen Toner',zoom_start=4)\n",
    "folium.CircleMarker(location=[15.2993, 74.1240], radius=50000,popup=str(p), color='#3186cc',fill_color='#3186cc').add_to(map_2)\n",
    "folium.CircleMarker(location=[12.971, 77.594], radius=50000,popup=str(q), color='#3186cc',fill_color='#3186cc').add_to(map_2)\n",
    "folium.CircleMarker(location=[28.704, 77.102], radius=50000,popup=str(r), color='#3186cc',fill_color='#3186cc').add_to(map_2)\n",
    "map_2"
   ]
  },
  {
   "cell_type": "code",
   "execution_count": null,
   "metadata": {
    "collapsed": true
   },
   "outputs": [],
   "source": []
  }
 ],
 "metadata": {
  "kernelspec": {
   "display_name": "Python [Root]",
   "language": "python",
   "name": "Python [Root]"
  },
  "language_info": {
   "codemirror_mode": {
    "name": "ipython",
    "version": 2
   },
   "file_extension": ".py",
   "mimetype": "text/x-python",
   "name": "python",
   "nbconvert_exporter": "python",
   "pygments_lexer": "ipython2",
   "version": "2.7.12"
  }
 },
 "nbformat": 4,
 "nbformat_minor": 0
}
