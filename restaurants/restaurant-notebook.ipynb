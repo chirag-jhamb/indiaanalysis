{
 "cells": [
  {
   "cell_type": "code",
   "execution_count": 1,
   "metadata": {
    "collapsed": true
   },
   "outputs": [],
   "source": [
    "import pandas as pd\n",
    "import numpy as np\n",
    "delhi = pd.read_csv(\"delhi-restaurants.csv\")\n",
    "bangalore = pd.read_csv(\"bangalore-restaurants.csv\")\n",
    "goa = pd.read_csv(\"goa-restaurants.csv\")\n",
    "pune= pd.read_csv(\"pune-restaurants.csv\")\n",
    "chennai= pd.read_csv(\"chennai-restaurants.csv\")"
   ]
  },
  {
   "cell_type": "code",
   "execution_count": 2,
   "metadata": {
    "collapsed": false
   },
   "outputs": [],
   "source": [
    "states=[\"delhi\",\"bangalore\",\"goa\",\"pune\",\"chennai\"]\n",
    "delhi.insert(1,'state',states[0],allow_duplicates=True)\n",
    "bangalore.insert(1,'state',states[1],allow_duplicates=True)\n",
    "goa.insert(1,'state',states[2],allow_duplicates=True)\n",
    "pune.insert(1,'state',states[3],allow_duplicates=True)\n",
    "chennai.insert(1,'state',states[4],allow_duplicates=True)\n",
    "#Concatenate all states into one dataframe-\n",
    "total = pd.concat([delhi,bangalore,goa,pune,chennai], ignore_index=True)\n",
    "total = total[total.rating != '-']\n",
    "total['rating'] = total['rating'].apply(pd.to_numeric)"
   ]
  },
  {
   "cell_type": "code",
   "execution_count": 3,
   "metadata": {
    "collapsed": false
   },
   "outputs": [],
   "source": [
    "from datetime import *\n",
    "import dateutil.parser as dparser\n",
    "from sklearn import preprocessing\n",
    "def time_it(t):\n",
    "    #function to handle timings available in form of fuzzy strings\n",
    "    if (\"Noon\" in t):\n",
    "        t=\"12 PM\"\n",
    "    elif (\"Midnight\" in t):\n",
    "        t=\"12 AM\"\n",
    "    try:\n",
    "        t=int(dparser.parse(t,fuzzy=True).strftime('%H'))\n",
    "    except:\n",
    "        t=0\n",
    "    return t\n",
    "\n",
    "def preprocess(data):\n",
    "    #rename columns to get rid of symbols and spaces\n",
    "    data=data.rename(columns = {'cost for 2':'cost'})\n",
    "    data=data.rename(columns = {'review-count':'reviews'})\n",
    "    data.fillna(0,axis=0,inplace=True)\n",
    "    #convert dummy variables\n",
    "    data=pd.concat([data, data['cuisines'].str.get_dummies(sep=', ')], axis=1)\n",
    "    #remove ruppee symbol\n",
    "    data['cost'] = data['cost'].str.replace(',','')\n",
    "    data['cost'] = data['cost'].str.replace('-','')\n",
    "    data['reviews'] = data['reviews'].str.replace(',','')\n",
    "    data['reviews'] = data['reviews'].str.replace('-','')\n",
    "    data['cost'] = data['cost'].map(lambda x: int(str(x)[3:]))\n",
    "    data['reviews'] = data['reviews'].map(lambda x: int(str(x)[:-7]))\n",
    "    data.rating=data.rating.fillna(\"\")\n",
    "    for index,r in data.iterrows():\n",
    "            o=time_it(r.timings[:8])\n",
    "            data.set_value(index,'opening',o)\n",
    "            c=time_it(r.timings[-8:])\n",
    "            data.set_value(index,'closing',c)\n",
    "    return data"
   ]
  },
  {
   "cell_type": "code",
   "execution_count": 4,
   "metadata": {
    "collapsed": false
   },
   "outputs": [
    {
     "name": "stdout",
     "output_type": "stream",
     "text": [
      "CPU times: user 12.1 s, sys: 556 ms, total: 12.7 s\n",
      "Wall time: 12.7 s\n"
     ]
    }
   ],
   "source": [
    "%%time\n",
    "total=preprocess(total)"
   ]
  },
  {
   "cell_type": "code",
   "execution_count": null,
   "metadata": {
    "collapsed": false
   },
   "outputs": [],
   "source": []
  },
  {
   "cell_type": "code",
   "execution_count": 5,
   "metadata": {
    "collapsed": false
   },
   "outputs": [],
   "source": [
    "le = preprocessing.LabelEncoder()\n",
    "le.fit(total.state)\n",
    "total.state=le.transform(total.state)"
   ]
  },
  {
   "cell_type": "code",
   "execution_count": 6,
   "metadata": {
    "collapsed": false
   },
   "outputs": [],
   "source": [
    "#define features to be used and target to be predicted\n",
    "features=total.columns.difference(['cuisines','timings','rating','name'])\n",
    "target='rating'"
   ]
  },
  {
   "cell_type": "code",
   "execution_count": 7,
   "metadata": {
    "collapsed": false
   },
   "outputs": [
    {
     "name": "stdout",
     "output_type": "stream",
     "text": [
      "Training set has 13907 samples.\n",
      "Testing set has 3477 samples.\n"
     ]
    }
   ],
   "source": [
    "from sklearn import cross_validation\n",
    "# Shuffle and split the dataset into the number of training and testing points above\n",
    "X_train, X_test = cross_validation.train_test_split(total, test_size=0.2)\n",
    "# Show the results of the split\n",
    "print \"Training set has {} samples.\".format(X_train.shape[0])\n",
    "print \"Testing set has {} samples.\".format(X_test.shape[0])"
   ]
  },
  {
   "cell_type": "code",
   "execution_count": 8,
   "metadata": {
    "collapsed": true
   },
   "outputs": [],
   "source": [
    "from sklearn.metrics import mean_squared_error\n",
    "from time import time\n",
    "def train_regressor(rgr, X_train, y_train):\n",
    "    ''' Fits a regressor to the training data. '''\n",
    "    # Start the clock, train the regressor, then stop the clock\n",
    "    start = time()\n",
    "    rgr.fit(X_train, y_train)\n",
    "    end = time()\n",
    "    # Print the results\n",
    "    print \"Trained model in {:.4f} seconds\".format(end - start)\n",
    "\n",
    "\n",
    "def predict_labels(rgr, features, target):\n",
    "    ''' Makes predictions using a fit regressor based on mean_squared_error '''\n",
    "    \n",
    "    # Start the clock, make predictions, then stop the clock\n",
    "    start = time()\n",
    "    y_pred = rgr.predict(features)\n",
    "    end = time()\n",
    "    \n",
    "    # Print and return results\n",
    "    print \"Made predictions in {:.4f} seconds.\".format(end - start)\n",
    "    #return mean_squared_error(target.values, y_pred)\n",
    "    return np.sqrt(((y_pred - target.values) ** 2).mean())\n",
    "\n",
    "\n",
    "\n",
    "def train_predict(rgr, X_train, y_train, X_test, y_test):\n",
    "    ''' Train and predict using a regressor based on error. '''\n",
    "    \n",
    "    # Indicate the regressor and the training set size\n",
    "    print \"Training a {} using a training set size of {}. . .\".format(rgr.__class__.__name__, len(X_train))\n",
    "    \n",
    "    # Train the regressor\n",
    "    train_regressor(rgr, X_train, y_train)\n",
    "    \n",
    "    # Print the results of prediction for both training and testing\n",
    "    print \"mean_squared_error for training set: {:.4f}.\".format(predict_labels(rgr, X_train, y_train))\n",
    "    print \"mean_squared_error for test set: {:.4f}.\".format(predict_labels(rgr, X_test, y_test))"
   ]
  },
  {
   "cell_type": "code",
   "execution_count": 9,
   "metadata": {
    "collapsed": true
   },
   "outputs": [],
   "source": [
    "from sklearn.neighbors import KNeighborsRegressor\n",
    "from sklearn.ensemble import GradientBoostingRegressor\n",
    "from sklearn.tree import DecisionTreeRegressor\n",
    "rgr_A = DecisionTreeRegressor(random_state=0)\n",
    "rgr_B = KNeighborsRegressor()\n",
    "rgr_C = GradientBoostingRegressor()"
   ]
  },
  {
   "cell_type": "code",
   "execution_count": 10,
   "metadata": {
    "collapsed": false
   },
   "outputs": [
    {
     "name": "stdout",
     "output_type": "stream",
     "text": [
      "Training a DecisionTreeRegressor using a training set size of 13907. . .\n",
      "Trained model in 0.2364 seconds\n",
      "Made predictions in 0.0123 seconds.\n",
      "mean_squared_error for training set: 0.0213.\n",
      "Made predictions in 0.0029 seconds.\n",
      "mean_squared_error for test set: 0.5124.\n"
     ]
    }
   ],
   "source": [
    "train_predict(rgr_A, X_train[features], X_train[target], X_test[features], X_test[target])"
   ]
  },
  {
   "cell_type": "code",
   "execution_count": 11,
   "metadata": {
    "collapsed": false
   },
   "outputs": [
    {
     "name": "stdout",
     "output_type": "stream",
     "text": [
      "Training a KNeighborsRegressor using a training set size of 13907. . .\n",
      "Trained model in 0.2415 seconds\n",
      "Made predictions in 1.9527 seconds.\n",
      "mean_squared_error for training set: 0.3323.\n",
      "Made predictions in 0.4373 seconds.\n",
      "mean_squared_error for test set: 0.3992.\n"
     ]
    }
   ],
   "source": [
    "train_predict(rgr_B, X_train[features], X_train[target], X_test[features], X_test[target])"
   ]
  },
  {
   "cell_type": "code",
   "execution_count": 12,
   "metadata": {
    "collapsed": false,
    "scrolled": false
   },
   "outputs": [
    {
     "name": "stdout",
     "output_type": "stream",
     "text": [
      "Training a GradientBoostingRegressor using a training set size of 13907. . .\n",
      "Trained model in 4.1297 seconds\n",
      "Made predictions in 0.0573 seconds.\n",
      "mean_squared_error for training set: 0.3604.\n",
      "Made predictions in 0.0112 seconds.\n",
      "mean_squared_error for test set: 0.3618.\n"
     ]
    }
   ],
   "source": [
    "train_predict(rgr_C, X_train[features], X_train[target], X_test[features], X_test[target])"
   ]
  },
  {
   "cell_type": "code",
   "execution_count": 13,
   "metadata": {
    "collapsed": false
   },
   "outputs": [],
   "source": [
    "feat={}\n",
    "for i,j in zip(features,rgr_C.feature_importances_):\n",
    "    feat[i]=j"
   ]
  },
  {
   "cell_type": "code",
   "execution_count": 14,
   "metadata": {
    "collapsed": false
   },
   "outputs": [],
   "source": [
    "v={}\n",
    "for x in ['opening','closing','cost','reviews','state']:\n",
    "    v[x]=feat[x]\n",
    "v['cuisine']=1-sum(v.values())\n",
    "df=pd.DataFrame(v.items(), columns=['name', 'value'])"
   ]
  },
  {
   "cell_type": "code",
   "execution_count": 15,
   "metadata": {
    "collapsed": false,
    "scrolled": false
   },
   "outputs": [
    {
     "data": {
      "text/plain": [
       "[<matplotlib.text.Text at 0x7f85806366d0>,\n",
       " <matplotlib.text.Text at 0x7f8580615750>]"
      ]
     },
     "execution_count": 15,
     "metadata": {},
     "output_type": "execute_result"
    },
    {
     "data": {
      "image/png": "[encoded data removed]",
      "text/plain": [
       "<matplotlib.figure.Figure at 0x7f8582e1ae90>"
      ]
     },
     "metadata": {},
     "output_type": "display_data"
    }
   ],
   "source": [
    "#from bokeh.plotting import figure, output_file, show,  output_notebook\n",
    "#from bokeh.charts import Bar\n",
    "import matplotlib\n",
    "%matplotlib inline\n",
    "import seaborn as sns\n",
    "import matplotlib.pyplot as plt\n",
    "ax=sns.barplot(x=\"name\", y=\"value\",data=df, palette=\"Set1\")\n",
    "ax.figsize=(40,40)\n",
    "ax.set(xlabel='Features', ylabel='Importance ratio')"
   ]
  },
  {
   "cell_type": "code",
   "execution_count": 16,
   "metadata": {
    "collapsed": false
   },
   "outputs": [],
   "source": [
    "goa= goa[goa.rating != '-']\n",
    "delhi= delhi[delhi.rating != '-']\n",
    "bangalore= bangalore[bangalore.rating != '-']\n",
    "#pune= pune[pune.rating != '-']\n",
    "#chennai= chennai[chennai.rating != '-']\n",
    "goa=preprocess(goa)\n",
    "delhi=preprocess(delhi)\n",
    "bangalore=preprocess(bangalore)\n",
    "pune=preprocess(pune)\n",
    "chennai=preprocess(chennai)"
   ]
  },
  {
   "cell_type": "code",
   "execution_count": 17,
   "metadata": {
    "collapsed": false
   },
   "outputs": [],
   "source": [
    "#d1=pd.DataFrame(feat.items(), columns=['name', 'value'])"
   ]
  },
  {
   "cell_type": "code",
   "execution_count": 18,
   "metadata": {
    "collapsed": false
   },
   "outputs": [
    {
     "name": "stderr",
     "output_type": "stream",
     "text": [
      "/root/anaconda2/lib/python2.7/site-packages/ipykernel/__main__.py:7: FutureWarning: using '-' to provide set differences with Indexes is deprecated, use .difference()\n",
      "/root/anaconda2/lib/python2.7/site-packages/ipykernel/__main__.py:8: FutureWarning: using '-' to provide set differences with Indexes is deprecated, use .difference()\n",
      "/root/anaconda2/lib/python2.7/site-packages/ipykernel/__main__.py:9: FutureWarning: using '-' to provide set differences with Indexes is deprecated, use .difference()\n",
      "/root/anaconda2/lib/python2.7/site-packages/ipykernel/__main__.py:10: FutureWarning: using '-' to provide set differences with Indexes is deprecated, use .difference()\n",
      "/root/anaconda2/lib/python2.7/site-packages/ipykernel/__main__.py:11: FutureWarning: using '-' to provide set differences with Indexes is deprecated, use .difference()\n"
     ]
    }
   ],
   "source": [
    "cuisines_d=delhi.columns.difference(['cuisines','timings','name','opening','closing','cost','reviews','state'])\n",
    "cuisines_g=goa.columns.difference(['cuisines','timings','name','opening','closing','cost','reviews','state'])\n",
    "cuisines_b=bangalore.columns.difference(['cuisines','timings','name','opening','closing','cost','reviews','state'])\n",
    "cuisines_p=pune.columns.difference(['cuisines','timings','name','opening','closing','cost','reviews','state'])\n",
    "cuisines_c=chennai.columns.difference(['cuisines','timings','name','opening','closing','cost','reviews','state'])\n",
    "all_cuisines=features.difference(['cuisines','timings','name','opening','closing','cost','reviews','state','rating'])\n",
    "u_g=cuisines_g-cuisines_b-cuisines_d-cuisines_p-cuisines_c\n",
    "u_b=cuisines_b-cuisines_g-cuisines_d-cuisines_p-cuisines_c\n",
    "u_d=cuisines_d-cuisines_b-cuisines_g-cuisines_p-cuisines_c\n",
    "u_p=cuisines_p-cuisines_b-cuisines_d-cuisines_g-cuisines_c\n",
    "u_c=cuisines_c-cuisines_b-cuisines_d-cuisines_p-cuisines_g"
   ]
  },
  {
   "cell_type": "code",
   "execution_count": 19,
   "metadata": {
    "collapsed": false
   },
   "outputs": [],
   "source": [
    "def state_insights(s,f):\n",
    "    d={}\n",
    "    sd=s.sort_values('rating', axis=0,ascending=False)\n",
    "    d['timing']=str(\"Most retaraunts open between- \" +str(int(sd.describe().iloc[1][-2:-1]))+\"AM to \"+str(int(sd.describe().iloc[1][-1])-12)+\"PM\")\n",
    "    d['cost']=\"Average cost of restaraunts- Rs.\"+str(int(sd.describe().iloc[1][1]))\n",
    "    d['best']=\"Best Restaraunt =\"+str(sd.iloc[0][0])    \n",
    "    x=\"Unique cuisines of the state =\"+str(f)[5:-16]+\",\"+str(d['timing']+\", \"+ d['cost']+\", \"+d['best'])\n",
    "    return x"
   ]
  },
  {
   "cell_type": "code",
   "execution_count": 20,
   "metadata": {
    "collapsed": false
   },
   "outputs": [],
   "source": [
    "p=state_insights(goa,u_g)\n",
    "q=state_insights(bangalore,u_b)\n",
    "r=state_insights(delhi,u_d)\n",
    "s=state_insights(pune,u_p)\n",
    "t=state_insights(chennai,u_c)"
   ]
  },
  {
   "cell_type": "code",
   "execution_count": 29,
   "metadata": {
    "collapsed": false
   },
   "outputs": [
    {
     "name": "stderr",
     "output_type": "stream",
     "text": [
      "/root/anaconda2/lib/python2.7/site-packages/ipykernel/__main__.py:2: FutureWarning: initialize_notebook is deprecated and no longer required.\n",
      "  from ipykernel import kernelapp as app\n"
     ]
    },
    {
     "data": {
      "text/html": [
       "<div style=\"width:100%;\"><div style=\"position:relative;width:100%;height:0;padding-bottom:60%;\"><iframe src=\"data:text/html;base64,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\" style=\"position:absolute;width:100%;height:100%;left:0;top:0;\"></iframe></div></div>"
      ],
      "text/plain": [
       "<folium.folium.Map at 0x7f857fc5f710>"
      ]
     },
     "execution_count": 29,
     "metadata": {},
     "output_type": "execute_result"
    }
   ],
   "source": [
    "import folium\n",
    "folium.initialize_notebook()\n",
    "map_2 = folium.Map(location=[20.8913, 78.0792],tiles='Mapbox Control room',zoom_start=5)\n",
    "folium.Marker(location=[15.2993, 74.1240], popup=str(p)).add_to(map_2)\n",
    "folium.Marker(location=[12.971, 77.594], popup=str(q)).add_to(map_2)\n",
    "folium.Marker(location=[28.704, 77.102], popup=str(r)).add_to(map_2)\n",
    "folium.Marker(location=[18.520, 73.857], popup=str(s)).add_to(map_2)\n",
    "folium.Marker(location=[13.082, 80.270], popup=str(t)).add_to(map_2)\n",
    "#map_2.save('restaraunts-map.html')\n",
    "map_2"
   ]
  },
  {
   "cell_type": "code",
   "execution_count": 22,
   "metadata": {
    "collapsed": false
   },
   "outputs": [
    {
     "name": "stdout",
     "output_type": "stream",
     "text": [
      "Goa:Unique cuisines of the state =([u'Drinks Only', u'Israeli'],,Most retaraunts open between- 9AM to 2PM, Average cost of restaraunts- Rs.861, Best Restaraunt =Burger Factory\n",
      "Bangalore: Unique cuisines of the state =([u'Australian', u'Chili', u'Contemporary', u'Kebab', u'Salgados',\n",
      "       u'Syrian'],\n",
      "     ,Most retaraunts open between- 10AM to 5PM, Average cost of restaraunts- Rs.589, Best Restaraunt =38 Castle Street\n",
      "Delhi: Unique cuisines of the state =([u'Armenian', u'Bar Food', u'Breakfast', u'Pakistani'],,Most retaraunts open between- 10AM to 4PM, Average cost of restaraunts- Rs.701, Best Restaraunt =Raasta\n",
      "Pune: Unique cuisines of the state =([u'Kebabs', u'Malwani'],,Most retaraunts open between- 10AM to 4PM, Average cost of restaraunts- Rs.811, Best Restaraunt =Kayani Bakery\n",
      "Chennai: Unique cuisines of the state =([u'0', u'Deli', u'Fusion', u'Grill', u'Pan Asian'],,Most retaraunts open between- 10AM to 5PM, Average cost of restaraunts- Rs.759, Best Restaraunt =Bombay Kulfi\n"
     ]
    }
   ],
   "source": [
    "print \"Goa:\"+p\n",
    "print \"Bangalore: \"+q\n",
    "print \"Delhi: \"+r\n",
    "print \"Pune: \"+s\n",
    "print \"Chennai: \"+t"
   ]
  },
  {
   "cell_type": "code",
   "execution_count": null,
   "metadata": {
    "collapsed": false
   },
   "outputs": [],
   "source": []
  },
  {
   "cell_type": "code",
   "execution_count": null,
   "metadata": {
    "collapsed": true
   },
   "outputs": [],
   "source": []
  }
 ],
 "metadata": {
  "kernelspec": {
   "display_name": "Python [Root]",
   "language": "python",
   "name": "Python [Root]"
  },
  "language_info": {
   "codemirror_mode": {
    "name": "ipython",
    "version": 2
   },
   "file_extension": ".py",
   "mimetype": "text/x-python",
   "name": "python",
   "nbconvert_exporter": "python",
   "pygments_lexer": "ipython2",
   "version": "2.7.12"
  }
 },
 "nbformat": 4,
 "nbformat_minor": 0
}
