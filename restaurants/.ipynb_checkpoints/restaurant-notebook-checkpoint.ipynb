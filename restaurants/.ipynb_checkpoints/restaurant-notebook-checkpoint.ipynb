{
 "cells": [
  {
   "cell_type": "code",
   "execution_count": 1,
   "metadata": {
    "collapsed": true
   },
   "outputs": [],
   "source": [
    "import pandas as pd\n",
    "import numpy as np\n",
    "delhi = pd.read_csv(\"delhi-restaurants.csv\")\n",
    "bangalore = pd.read_csv(\"bangalore-restaurants.csv\")\n",
    "goa = pd.read_csv(\"goa-restaurants.csv\")"
   ]
  },
  {
   "cell_type": "code",
   "execution_count": 2,
   "metadata": {
    "collapsed": false
   },
   "outputs": [],
   "source": [
    "states=[\"delhi\",\"bangalore\",\"goa\"]\n",
    "delhi.insert(1,'state',states[0],allow_duplicates=True)\n",
    "bangalore.insert(1,'state',states[1],allow_duplicates=True)\n",
    "goa.insert(1,'state',states[2],allow_duplicates=True)\n",
    "\n",
    "#Concatenate all states into one dataframe-\n",
    "total = pd.concat([delhi,bangalore,goa], ignore_index=True)\n",
    "total = total[total.rating != '-']\n",
    "#total.rating=total.rating.apply(lambda x: pd.to_numeric(x, errors='ignore'))\n",
    "total['rating'] = total['rating'].apply(pd.to_numeric)"
   ]
  },
  {
   "cell_type": "code",
   "execution_count": 3,
   "metadata": {
    "collapsed": false
   },
   "outputs": [],
   "source": [
    "from datetime import *\n",
    "import dateutil.parser as dparser\n",
    "from sklearn import preprocessing\n",
    "def time_it(t):\n",
    "    #function to handle timings available in form of fuzzy strings\n",
    "    if (\"Noon\" in t):\n",
    "        t=\"12 PM\"\n",
    "    elif (\"Midnight\" in t):\n",
    "        t=\"12 AM\"\n",
    "    try:\n",
    "        t=int(dparser.parse(t,fuzzy=True).strftime('%H'))\n",
    "    except:\n",
    "        t=0\n",
    "    return t\n",
    "\n",
    "def preprocess(data):\n",
    "    #rename columns to get rid of symbols and spaces\n",
    "    data=data.rename(columns = {'cost for 2':'cost'})\n",
    "    data=data.rename(columns = {'review-count':'reviews'})\n",
    "    data.fillna(0,axis=0,inplace=True)\n",
    "    #convert dummy variables\n",
    "    data=pd.concat([data, data['cuisines'].str.get_dummies(sep=', ')], axis=1)\n",
    "    #remove ruppee symbol\n",
    "    #data['rating'] = data['rating'].str.replace('-','')\n",
    "    data['cost'] = data['cost'].str.replace(',','')\n",
    "    data['cost'] = data['cost'].str.replace('-','')\n",
    "    data['reviews'] = data['reviews'].str.replace(',','')\n",
    "    data['reviews'] = data['reviews'].str.replace('-','')\n",
    "    data['cost'] = data['cost'].map(lambda x: int(str(x)[3:]))\n",
    "    data['reviews'] = data['reviews'].map(lambda x: int(str(x)[:-7]))\n",
    "    data.rating=data.rating.fillna(\"\")\n",
    "    for index,r in data.iterrows():\n",
    "            #r.cost=r.cost[3:]\n",
    "            #r.reviews=r.reviews[:-8]\n",
    "            #r.rating=float(r.rating)\n",
    "            o=time_it(r.timings[:8])\n",
    "            data.set_value(index,'opening',o)\n",
    "            c=time_it(r.timings[-8:])\n",
    "            data.set_value(index,'closing',c)\n",
    "    #data.rating.fillna(0, inplace=True)\n",
    "    #data.rating=np.log1p(data.rating)\n",
    "    return data"
   ]
  },
  {
   "cell_type": "code",
   "execution_count": 4,
   "metadata": {
    "collapsed": false
   },
   "outputs": [
    {
     "name": "stdout",
     "output_type": "stream",
     "text": [
      "CPU times: user 9.96 s, sys: 412 ms, total: 10.4 s\n",
      "Wall time: 10.4 s\n"
     ]
    }
   ],
   "source": [
    "%%time\n",
    "total=preprocess(total)"
   ]
  },
  {
   "cell_type": "code",
   "execution_count": null,
   "metadata": {
    "collapsed": false
   },
   "outputs": [],
   "source": []
  },
  {
   "cell_type": "code",
   "execution_count": 5,
   "metadata": {
    "collapsed": false
   },
   "outputs": [],
   "source": [
    "#encode the names and states for regression model-\n",
    "#le1 = preprocessing.LabelEncoder()\n",
    "#le1.fit(total.name)\n",
    "#total.name=le1.transform(total.name)\n",
    "le2 = preprocessing.LabelEncoder()\n",
    "le2.fit(total.state)\n",
    "total.state=le2.transform(total.state)"
   ]
  },
  {
   "cell_type": "code",
   "execution_count": 6,
   "metadata": {
    "collapsed": false
   },
   "outputs": [],
   "source": [
    "#define features to be used and target to be predicted\n",
    "features=total.columns.difference(['cuisines','timings','rating','name'])\n",
    "target='rating'"
   ]
  },
  {
   "cell_type": "code",
   "execution_count": 7,
   "metadata": {
    "collapsed": false
   },
   "outputs": [
    {
     "name": "stdout",
     "output_type": "stream",
     "text": [
      "Training set has 11548 samples.\n",
      "Testing set has 2887 samples.\n"
     ]
    }
   ],
   "source": [
    "from sklearn import cross_validation\n",
    "# Shuffle and split the dataset into the number of training and testing points above\n",
    "X_train, X_test = cross_validation.train_test_split(total, test_size=0.2)\n",
    "# Show the results of the split\n",
    "print \"Training set has {} samples.\".format(X_train.shape[0])\n",
    "print \"Testing set has {} samples.\".format(X_test.shape[0])"
   ]
  },
  {
   "cell_type": "code",
   "execution_count": 8,
   "metadata": {
    "collapsed": true
   },
   "outputs": [],
   "source": [
    "from sklearn.metrics import mean_squared_error\n",
    "from time import time\n",
    "def train_regressor(rgr, X_train, y_train):\n",
    "    ''' Fits a regressor to the training data. '''\n",
    "    # Start the clock, train the regressor, then stop the clock\n",
    "    start = time()\n",
    "    rgr.fit(X_train, y_train)\n",
    "    end = time()\n",
    "    # Print the results\n",
    "    print \"Trained model in {:.4f} seconds\".format(end - start)\n",
    "\n",
    "\n",
    "def predict_labels(rgr, features, target):\n",
    "    ''' Makes predictions using a fit regressor based on mean_squared_error '''\n",
    "    \n",
    "    # Start the clock, make predictions, then stop the clock\n",
    "    start = time()\n",
    "    y_pred = rgr.predict(features)\n",
    "    end = time()\n",
    "    \n",
    "    # Print and return results\n",
    "    print \"Made predictions in {:.4f} seconds.\".format(end - start)\n",
    "    #return mean_squared_error(target.values, y_pred)\n",
    "    return np.sqrt(((y_pred - target.values) ** 2).mean())\n",
    "\n",
    "\n",
    "\n",
    "def train_predict(rgr, X_train, y_train, X_test, y_test):\n",
    "    ''' Train and predict using a regressor based on error. '''\n",
    "    \n",
    "    # Indicate the regressor and the training set size\n",
    "    print \"Training a {} using a training set size of {}. . .\".format(rgr.__class__.__name__, len(X_train))\n",
    "    \n",
    "    # Train the regressor\n",
    "    train_regressor(rgr, X_train, y_train)\n",
    "    \n",
    "    # Print the results of prediction for both training and testing\n",
    "    print \"mean_squared_error for training set: {:.4f}.\".format(predict_labels(rgr, X_train, y_train))\n",
    "    print \"mean_squared_error for test set: {:.4f}.\".format(predict_labels(rgr, X_test, y_test))"
   ]
  },
  {
   "cell_type": "code",
   "execution_count": 9,
   "metadata": {
    "collapsed": true
   },
   "outputs": [],
   "source": [
    "from sklearn.neighbors import KNeighborsRegressor\n",
    "from sklearn.ensemble import GradientBoostingRegressor\n",
    "from sklearn.tree import DecisionTreeRegressor\n",
    "rgr_A = DecisionTreeRegressor(random_state=0)\n",
    "rgr_B = KNeighborsRegressor()\n",
    "rgr_C = GradientBoostingRegressor()"
   ]
  },
  {
   "cell_type": "code",
   "execution_count": 10,
   "metadata": {
    "collapsed": false
   },
   "outputs": [
    {
     "name": "stdout",
     "output_type": "stream",
     "text": [
      "Training a DecisionTreeRegressor using a training set size of 11548. . .\n",
      "Trained model in 0.1807 seconds\n",
      "Made predictions in 0.0105 seconds.\n",
      "mean_squared_error for training set: 0.0199.\n",
      "Made predictions in 0.0022 seconds.\n",
      "mean_squared_error for test set: 0.4877.\n"
     ]
    }
   ],
   "source": [
    "train_predict(rgr_A, X_train[features], X_train[target], X_test[features], X_test[target])"
   ]
  },
  {
   "cell_type": "code",
   "execution_count": 11,
   "metadata": {
    "collapsed": false
   },
   "outputs": [
    {
     "name": "stdout",
     "output_type": "stream",
     "text": [
      "Training a KNeighborsRegressor using a training set size of 11548. . .\n",
      "Trained model in 0.1169 seconds\n",
      "Made predictions in 1.3500 seconds.\n",
      "mean_squared_error for training set: 0.3156.\n",
      "Made predictions in 0.2945 seconds.\n",
      "mean_squared_error for test set: 0.3754.\n"
     ]
    }
   ],
   "source": [
    "train_predict(rgr_B, X_train[features], X_train[target], X_test[features], X_test[target])"
   ]
  },
  {
   "cell_type": "code",
   "execution_count": 12,
   "metadata": {
    "collapsed": false,
    "scrolled": false
   },
   "outputs": [
    {
     "name": "stdout",
     "output_type": "stream",
     "text": [
      "Training a GradientBoostingRegressor using a training set size of 11548. . .\n",
      "Trained model in 2.8320 seconds\n",
      "Made predictions in 0.0397 seconds.\n",
      "mean_squared_error for training set: 0.3394.\n",
      "Made predictions in 0.0086 seconds.\n",
      "mean_squared_error for test set: 0.3413.\n"
     ]
    }
   ],
   "source": [
    "train_predict(rgr_C, X_train[features], X_train[target], X_test[features], X_test[target])"
   ]
  },
  {
   "cell_type": "code",
   "execution_count": 13,
   "metadata": {
    "collapsed": false
   },
   "outputs": [],
   "source": [
    "feat={}\n",
    "for i,j in zip(features,rgr_C.feature_importances_):\n",
    "    feat[i]=j"
   ]
  },
  {
   "cell_type": "code",
   "execution_count": 14,
   "metadata": {
    "collapsed": false
   },
   "outputs": [],
   "source": [
    "v={}\n",
    "for x in ['opening','closing','cost','reviews','state']:\n",
    "    v[x]=feat[x]\n",
    "v['cuisine']=1-sum(v.values())\n",
    "df=pd.DataFrame(v.items(), columns=['name', 'value'])"
   ]
  },
  {
   "cell_type": "code",
   "execution_count": 29,
   "metadata": {
    "collapsed": false,
    "scrolled": false
   },
   "outputs": [
    {
     "data": {
      "text/plain": [
       "[<matplotlib.text.Text at 0x7fa787920410>,\n",
       " <matplotlib.text.Text at 0x7fa787813cd0>]"
      ]
     },
     "execution_count": 29,
     "metadata": {},
     "output_type": "execute_result"
    },
    {
     "data": {
      "image/png": "[encoded data removed]",
      "text/plain": [
       "<matplotlib.figure.Figure at 0x7fa78769e710>"
      ]
     },
     "metadata": {},
     "output_type": "display_data"
    }
   ],
   "source": [
    "#from bokeh.plotting import figure, output_file, show,  output_notebook\n",
    "#from bokeh.charts import Bar\n",
    "import matplotlib\n",
    "%matplotlib inline\n",
    "import seaborn as sns\n",
    "import matplotlib.pyplot as plt\n",
    "ax=sns.barplot(x=\"name\", y=\"value\",data=df, palette=\"Set1\")\n",
    "ax.figsize=(40,40)\n",
    "ax.set(xlabel='Features', ylabel='Importance ratio')"
   ]
  },
  {
   "cell_type": "code",
   "execution_count": null,
   "metadata": {
    "collapsed": false
   },
   "outputs": [],
   "source": []
  },
  {
   "cell_type": "code",
   "execution_count": null,
   "metadata": {
    "collapsed": false
   },
   "outputs": [],
   "source": []
  },
  {
   "cell_type": "code",
   "execution_count": null,
   "metadata": {
    "collapsed": true
   },
   "outputs": [],
   "source": []
  }
 ],
 "metadata": {
  "kernelspec": {
   "display_name": "Python [Root]",
   "language": "python",
   "name": "Python [Root]"
  },
  "language_info": {
   "codemirror_mode": {
    "name": "ipython",
    "version": 2
   },
   "file_extension": ".py",
   "mimetype": "text/x-python",
   "name": "python",
   "nbconvert_exporter": "python",
   "pygments_lexer": "ipython2",
   "version": "2.7.12"
  }
 },
 "nbformat": 4,
 "nbformat_minor": 0
}
